{
 "cells": [
  {
   "cell_type": "code",
   "execution_count": 3,
   "id": "0f048f9f",
   "metadata": {},
   "outputs": [],
   "source": [
    "##open a folder in jupiternotebook  and give a name z\n",
    "##inside that folder open a notebook with name add_main\n",
    "## define a function for addition-def add(a,b):\n",
    "                            ##      return a+b\n",
    "                            ##        add (7,8)\n",
    "## go to ---- file-download as -python(.py){it will  downloaded} that is add_main.py\n",
    "##upload add_main.py in inside of  z folder\n",
    "##then open a new jupiter file ,type \n",
    "##import add_main\n",
    "##add_main.add(7,8)\n"
   ]
  },
  {
   "cell_type": "code",
   "execution_count": 1,
   "id": "dfb715bd",
   "metadata": {},
   "outputs": [],
   "source": [
    "def add(a,b):\n",
    "    return a+b"
   ]
  },
  {
   "cell_type": "code",
   "execution_count": 2,
   "id": "2f84eb6c",
   "metadata": {},
   "outputs": [
    {
     "data": {
      "text/plain": [
       "15"
      ]
     },
     "execution_count": 2,
     "metadata": {},
     "output_type": "execute_result"
    }
   ],
   "source": [
    "add(7,8)"
   ]
  },
  {
   "cell_type": "code",
   "execution_count": null,
   "id": "96c4070f",
   "metadata": {},
   "outputs": [],
   "source": [
    "## def greet_user():\n",
    "    \"display a simple greeting\"\n",
    "## print(\"hello\")\n",
    "## greet_user()"
   ]
  },
  {
   "cell_type": "code",
   "execution_count": null,
   "id": "427b6055",
   "metadata": {},
   "outputs": [],
   "source": [
    "##  import greet_module\n",
    "##  greet_module.greet_user()"
   ]
  }
 ],
 "metadata": {
  "kernelspec": {
   "display_name": "Python 3 (ipykernel)",
   "language": "python",
   "name": "python3"
  },
  "language_info": {
   "codemirror_mode": {
    "name": "ipython",
    "version": 3
   },
   "file_extension": ".py",
   "mimetype": "text/x-python",
   "name": "python",
   "nbconvert_exporter": "python",
   "pygments_lexer": "ipython3",
   "version": "3.9.12"
  }
 },
 "nbformat": 4,
 "nbformat_minor": 5
}
